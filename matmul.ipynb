{
 "cells": [
  {
   "cell_type": "code",
   "execution_count": 1,
   "id": "53cf8352-2c79-4575-bb12-e9bc6f395061",
   "metadata": {},
   "outputs": [],
   "source": [
    "using BenchmarkTools"
   ]
  },
  {
   "cell_type": "code",
   "execution_count": 9,
   "id": "680c1b08-200c-4eaf-b6ee-ba5a86e5d844",
   "metadata": {},
   "outputs": [
    {
     "data": {
      "text/plain": [
       "matmul (generic function with 1 method)"
      ]
     },
     "execution_count": 9,
     "metadata": {},
     "output_type": "execute_result"
    }
   ],
   "source": [
    "function matmul(a, b)\n",
    "    c = zeros(size(a)[1], size(b)[2])\n",
    "    \n",
    "    for j = 1:size(b)[2]\n",
    "        for i = 1:size(a)[1]\n",
    "            for k = 1:size(a)[2]\n",
    "                c[i,j] +=  a[i,k]*b[k,j]\n",
    "            end\n",
    "        end\n",
    "    end\n",
    "            \n",
    "    return c\n",
    "end"
   ]
  },
  {
   "cell_type": "code",
   "execution_count": 16,
   "id": "116e350f-90ad-458f-937e-b51de8cb9d62",
   "metadata": {},
   "outputs": [
    {
     "name": "stdout",
     "output_type": "stream",
     "text": [
      "  9.672299 seconds (2 allocations: 45.776 MiB, 6.42% gc time)\n"
     ]
    },
    {
     "data": {
      "text/plain": [
       "2000×3000 Matrix{Float64}:\n",
       " 253.504  252.321  255.497  241.19   …  255.902  238.886  255.043  242.811\n",
       " 257.59   259.61   265.152  256.726     249.818  254.255  254.459  249.059\n",
       " 249.915  251.622  247.529  244.339     240.68   240.203  245.933  244.144\n",
       " 253.831  259.956  249.944  257.524     246.792  250.073  256.082  247.147\n",
       " 256.097  258.574  259.333  252.558     253.1    250.167  257.103  252.137\n",
       " 245.36   243.921  250.481  245.485  …  245.744  244.625  250.172  241.989\n",
       " 248.254  255.931  257.508  249.372     247.511  246.796  251.549  246.054\n",
       " 250.719  260.299  255.732  251.398     252.41   245.38   249.922  250.357\n",
       " 248.108  247.109  252.075  245.979     247.613  240.494  250.942  245.268\n",
       " 248.329  252.788  249.988  246.861     244.858  246.263  249.883  242.807\n",
       " 246.82   245.078  249.128  237.549  …  247.015  238.297  246.801  244.345\n",
       " 255.703  259.23   257.808  251.937     250.507  250.104  251.85   250.641\n",
       " 255.96   260.669  256.566  252.73      259.354  247.751  261.768  250.239\n",
       "   ⋮                                 ⋱                             \n",
       " 251.096  251.478  251.854  248.271     246.225  243.452  253.756  250.718\n",
       " 253.863  251.484  252.223  247.572     250.795  242.152  258.47   252.926\n",
       " 254.665  253.807  256.843  249.315  …  254.046  247.808  251.898  251.384\n",
       " 247.065  252.395  253.488  243.392     253.119  244.297  252.783  246.538\n",
       " 246.617  244.916  246.845  242.846     244.814  239.752  243.635  240.367\n",
       " 259.146  258.023  259.899  253.17      253.703  246.874  256.651  251.332\n",
       " 252.31   252.905  256.265  241.741     252.616  246.407  251.13   244.66\n",
       " 254.872  255.294  254.553  242.809  …  246.367  245.702  254.03   245.608\n",
       " 259.444  263.304  257.614  251.024     253.728  251.237  258.745  245.301\n",
       " 258.485  253.539  258.047  251.361     248.757  251.474  256.375  248.969\n",
       " 250.701  248.222  248.452  240.426     245.615  244.877  248.553  238.192\n",
       " 252.777  245.074  252.638  244.059     250.239  242.563  248.814  247.069"
      ]
     },
     "execution_count": 16,
     "metadata": {},
     "output_type": "execute_result"
    }
   ],
   "source": [
    "l = 2000\n",
    "m = 3000\n",
    "n = 1000\n",
    "a = rand(l, n)\n",
    "b = rand(n, m)\n",
    "\n",
    "@time matmul(a, b)"
   ]
  },
  {
   "cell_type": "code",
   "execution_count": 17,
   "id": "bc857047-15c5-45a4-92ee-23642bf8d6c8",
   "metadata": {},
   "outputs": [
    {
     "name": "stdout",
     "output_type": "stream",
     "text": [
      "  0.191336 seconds (2 allocations: 45.776 MiB, 35.68% gc time)\n"
     ]
    },
    {
     "data": {
      "text/plain": [
       "2000×3000 Matrix{Float64}:\n",
       " 253.504  252.321  255.497  241.19   …  255.902  238.886  255.043  242.811\n",
       " 257.59   259.61   265.152  256.726     249.818  254.255  254.459  249.059\n",
       " 249.915  251.622  247.529  244.339     240.68   240.203  245.933  244.144\n",
       " 253.831  259.956  249.944  257.524     246.792  250.073  256.082  247.147\n",
       " 256.097  258.574  259.333  252.558     253.1    250.167  257.103  252.137\n",
       " 245.36   243.921  250.481  245.485  …  245.744  244.625  250.172  241.989\n",
       " 248.254  255.931  257.508  249.372     247.511  246.796  251.549  246.054\n",
       " 250.719  260.299  255.732  251.398     252.41   245.38   249.922  250.357\n",
       " 248.108  247.109  252.075  245.979     247.613  240.494  250.942  245.268\n",
       " 248.329  252.788  249.988  246.861     244.858  246.263  249.883  242.807\n",
       " 246.82   245.078  249.128  237.549  …  247.015  238.297  246.801  244.345\n",
       " 255.703  259.23   257.808  251.937     250.507  250.104  251.85   250.641\n",
       " 255.96   260.669  256.566  252.73      259.354  247.751  261.768  250.239\n",
       "   ⋮                                 ⋱                             \n",
       " 251.096  251.478  251.854  248.271     246.225  243.452  253.756  250.718\n",
       " 253.863  251.484  252.223  247.572     250.795  242.152  258.47   252.926\n",
       " 254.665  253.807  256.843  249.315  …  254.046  247.808  251.898  251.384\n",
       " 247.065  252.395  253.488  243.392     253.119  244.297  252.783  246.538\n",
       " 246.617  244.916  246.845  242.846     244.814  239.752  243.635  240.367\n",
       " 259.146  258.023  259.899  253.17      253.703  246.874  256.651  251.332\n",
       " 252.31   252.905  256.265  241.741     252.616  246.407  251.13   244.66\n",
       " 254.872  255.294  254.553  242.809  …  246.367  245.702  254.03   245.608\n",
       " 259.444  263.304  257.614  251.024     253.728  251.237  258.745  245.301\n",
       " 258.485  253.539  258.047  251.361     248.757  251.474  256.375  248.969\n",
       " 250.701  248.222  248.452  240.426     245.615  244.877  248.553  238.192\n",
       " 252.777  245.074  252.638  244.059     250.239  242.563  248.814  247.069"
      ]
     },
     "execution_count": 17,
     "metadata": {},
     "output_type": "execute_result"
    }
   ],
   "source": [
    "@time a*b"
   ]
  },
  {
   "cell_type": "code",
   "execution_count": 12,
   "id": "de8d32b7-ac50-4b3f-8ca9-cf46167702ba",
   "metadata": {},
   "outputs": [
    {
     "data": {
      "text/plain": [
       "BenchmarkTools.Trial: 850 samples with 1 evaluation.\n",
       " Range \u001b[90m(\u001b[39m\u001b[36m\u001b[1mmin\u001b[22m\u001b[39m … \u001b[35mmax\u001b[39m\u001b[90m):  \u001b[39m\u001b[36m\u001b[1m5.786 ms\u001b[22m\u001b[39m … \u001b[35m  8.855 ms\u001b[39m  \u001b[90m┊\u001b[39m GC \u001b[90m(\u001b[39mmin … max\u001b[90m): \u001b[39m0.00% … 33.60%\n",
       " Time  \u001b[90m(\u001b[39m\u001b[34m\u001b[1mmedian\u001b[22m\u001b[39m\u001b[90m):     \u001b[39m\u001b[34m\u001b[1m5.857 ms               \u001b[22m\u001b[39m\u001b[90m┊\u001b[39m GC \u001b[90m(\u001b[39mmedian\u001b[90m):    \u001b[39m0.00%\n",
       " Time  \u001b[90m(\u001b[39m\u001b[32m\u001b[1mmean\u001b[22m\u001b[39m ± \u001b[32mσ\u001b[39m\u001b[90m):   \u001b[39m\u001b[32m\u001b[1m5.879 ms\u001b[22m\u001b[39m ± \u001b[32m213.219 μs\u001b[39m  \u001b[90m┊\u001b[39m GC \u001b[90m(\u001b[39mmean ± σ\u001b[90m):  \u001b[39m0.34% ±  2.57%\n",
       "\n",
       "  \u001b[39m \u001b[39m \u001b[39m \u001b[39m \u001b[39m▃\u001b[39m▄\u001b[39m▆\u001b[39m▄\u001b[39m▄\u001b[39m▅\u001b[39m█\u001b[34m▇\u001b[39m\u001b[39m█\u001b[39m▆\u001b[39m▅\u001b[32m▃\u001b[39m\u001b[39m▃\u001b[39m \u001b[39m \u001b[39m \u001b[39m \u001b[39m \u001b[39m \u001b[39m \u001b[39m \u001b[39m \u001b[39m \u001b[39m \u001b[39m \u001b[39m \u001b[39m \u001b[39m \u001b[39m \u001b[39m \u001b[39m \u001b[39m \u001b[39m \u001b[39m \u001b[39m \u001b[39m \u001b[39m \u001b[39m \u001b[39m \u001b[39m \u001b[39m \u001b[39m \u001b[39m \u001b[39m \u001b[39m \u001b[39m \u001b[39m \u001b[39m \u001b[39m \u001b[39m \u001b[39m \u001b[39m \u001b[39m \u001b[39m \u001b[39m \u001b[39m \u001b[39m \n",
       "  \u001b[39m▂\u001b[39m▁\u001b[39m▃\u001b[39m█\u001b[39m█\u001b[39m█\u001b[39m█\u001b[39m█\u001b[39m█\u001b[39m█\u001b[39m█\u001b[34m█\u001b[39m\u001b[39m█\u001b[39m█\u001b[39m█\u001b[32m█\u001b[39m\u001b[39m█\u001b[39m█\u001b[39m▅\u001b[39m▃\u001b[39m▄\u001b[39m▃\u001b[39m▂\u001b[39m▃\u001b[39m▃\u001b[39m▂\u001b[39m▂\u001b[39m▁\u001b[39m▂\u001b[39m▂\u001b[39m▁\u001b[39m▁\u001b[39m▂\u001b[39m▁\u001b[39m▁\u001b[39m▁\u001b[39m▁\u001b[39m▁\u001b[39m▂\u001b[39m▂\u001b[39m▁\u001b[39m▂\u001b[39m▁\u001b[39m▁\u001b[39m▁\u001b[39m▂\u001b[39m▁\u001b[39m▁\u001b[39m▁\u001b[39m▁\u001b[39m▁\u001b[39m▁\u001b[39m▁\u001b[39m▁\u001b[39m▁\u001b[39m▁\u001b[39m▁\u001b[39m▁\u001b[39m▂\u001b[39m \u001b[39m▄\n",
       "  5.79 ms\u001b[90m         Histogram: frequency by time\u001b[39m        6.16 ms \u001b[0m\u001b[1m<\u001b[22m\n",
       "\n",
       " Memory estimate\u001b[90m: \u001b[39m\u001b[33m468.80 KiB\u001b[39m, allocs estimate\u001b[90m: \u001b[39m\u001b[33m2\u001b[39m."
      ]
     },
     "execution_count": 12,
     "metadata": {},
     "output_type": "execute_result"
    }
   ],
   "source": [
    "@benchmark matmul(a, b)"
   ]
  },
  {
   "cell_type": "code",
   "execution_count": 13,
   "id": "6f20331a-1619-4c9b-a8f0-7c8ff96805c7",
   "metadata": {},
   "outputs": [
    {
     "data": {
      "text/plain": [
       "BenchmarkTools.Trial: 10000 samples with 1 evaluation.\n",
       " Range \u001b[90m(\u001b[39m\u001b[36m\u001b[1mmin\u001b[22m\u001b[39m … \u001b[35mmax\u001b[39m\u001b[90m):  \u001b[39m\u001b[36m\u001b[1m181.209 μs\u001b[22m\u001b[39m … \u001b[35m  9.336 ms\u001b[39m  \u001b[90m┊\u001b[39m GC \u001b[90m(\u001b[39mmin … max\u001b[90m): \u001b[39m 0.00% … 96.37%\n",
       " Time  \u001b[90m(\u001b[39m\u001b[34m\u001b[1mmedian\u001b[22m\u001b[39m\u001b[90m):     \u001b[39m\u001b[34m\u001b[1m258.583 μs               \u001b[22m\u001b[39m\u001b[90m┊\u001b[39m GC \u001b[90m(\u001b[39mmedian\u001b[90m):    \u001b[39m 0.00%\n",
       " Time  \u001b[90m(\u001b[39m\u001b[32m\u001b[1mmean\u001b[22m\u001b[39m ± \u001b[32mσ\u001b[39m\u001b[90m):   \u001b[39m\u001b[32m\u001b[1m284.966 μs\u001b[22m\u001b[39m ± \u001b[32m306.202 μs\u001b[39m  \u001b[90m┊\u001b[39m GC \u001b[90m(\u001b[39mmean ± σ\u001b[90m):  \u001b[39m10.10% ±  9.14%\n",
       "\n",
       "  \u001b[39m \u001b[39m \u001b[39m█\u001b[34m▅\u001b[39m\u001b[32m \u001b[39m\u001b[39m \u001b[39m \u001b[39m \u001b[39m \u001b[39m \u001b[39m \u001b[39m \u001b[39m \u001b[39m \u001b[39m \u001b[39m \u001b[39m \u001b[39m \u001b[39m \u001b[39m \u001b[39m \u001b[39m \u001b[39m \u001b[39m \u001b[39m \u001b[39m \u001b[39m \u001b[39m \u001b[39m \u001b[39m \u001b[39m \u001b[39m \u001b[39m \u001b[39m \u001b[39m \u001b[39m \u001b[39m \u001b[39m \u001b[39m \u001b[39m \u001b[39m \u001b[39m \u001b[39m \u001b[39m \u001b[39m \u001b[39m \u001b[39m \u001b[39m \u001b[39m \u001b[39m \u001b[39m \u001b[39m \u001b[39m \u001b[39m \u001b[39m \u001b[39m \u001b[39m \u001b[39m \u001b[39m \u001b[39m \u001b[39m \u001b[39m \u001b[39m \n",
       "  \u001b[39m▂\u001b[39m▇\u001b[39m█\u001b[34m█\u001b[39m\u001b[32m▃\u001b[39m\u001b[39m▂\u001b[39m▂\u001b[39m▂\u001b[39m▁\u001b[39m▂\u001b[39m▁\u001b[39m▁\u001b[39m▁\u001b[39m▁\u001b[39m▁\u001b[39m▁\u001b[39m▂\u001b[39m▂\u001b[39m▁\u001b[39m▁\u001b[39m▁\u001b[39m▁\u001b[39m▁\u001b[39m▁\u001b[39m▁\u001b[39m▂\u001b[39m▂\u001b[39m▁\u001b[39m▂\u001b[39m▁\u001b[39m▁\u001b[39m▁\u001b[39m▁\u001b[39m▁\u001b[39m▁\u001b[39m▁\u001b[39m▁\u001b[39m▁\u001b[39m▁\u001b[39m▁\u001b[39m▁\u001b[39m▁\u001b[39m▁\u001b[39m▁\u001b[39m▂\u001b[39m▁\u001b[39m▁\u001b[39m▁\u001b[39m▁\u001b[39m▁\u001b[39m▁\u001b[39m▁\u001b[39m▁\u001b[39m▁\u001b[39m▁\u001b[39m▁\u001b[39m▁\u001b[39m▂\u001b[39m▂\u001b[39m▁\u001b[39m▂\u001b[39m \u001b[39m▂\n",
       "  181 μs\u001b[90m           Histogram: frequency by time\u001b[39m         1.78 ms \u001b[0m\u001b[1m<\u001b[22m\n",
       "\n",
       " Memory estimate\u001b[90m: \u001b[39m\u001b[33m468.80 KiB\u001b[39m, allocs estimate\u001b[90m: \u001b[39m\u001b[33m2\u001b[39m."
      ]
     },
     "execution_count": 13,
     "metadata": {},
     "output_type": "execute_result"
    }
   ],
   "source": [
    "@benchmark a*b"
   ]
  },
  {
   "cell_type": "code",
   "execution_count": null,
   "id": "28f1256b-9d9f-416e-81ed-839760059c23",
   "metadata": {},
   "outputs": [],
   "source": []
  },
  {
   "cell_type": "code",
   "execution_count": 3,
   "id": "95243afd-d97b-4ce6-8759-fbe5c4974937",
   "metadata": {},
   "outputs": [
    {
     "data": {
      "text/plain": [
       "2×2 Matrix{Int64}:\n",
       " 0  0\n",
       " 0  0"
      ]
     },
     "execution_count": 3,
     "metadata": {},
     "output_type": "execute_result"
    }
   ],
   "source": [
    "c = similar(a)"
   ]
  },
  {
   "cell_type": "code",
   "execution_count": 4,
   "id": "45c900ee-eeed-4c93-9da7-1e190b099108",
   "metadata": {},
   "outputs": [
    {
     "data": {
      "text/plain": [
       "(2, 2)"
      ]
     },
     "execution_count": 4,
     "metadata": {},
     "output_type": "execute_result"
    }
   ],
   "source": [
    "size(c)"
   ]
  },
  {
   "cell_type": "code",
   "execution_count": 18,
   "id": "af43c386-1edf-4f2f-a23e-ef2fbba0c622",
   "metadata": {
    "scrolled": true
   },
   "outputs": [
    {
     "ename": "LoadError",
     "evalue": "ArgumentError: Package PyPlot not found in current path.\n- Run `import Pkg; Pkg.add(\"PyPlot\")` to install the PyPlot package.",
     "output_type": "error",
     "traceback": [
      "ArgumentError: Package PyPlot not found in current path.\n- Run `import Pkg; Pkg.add(\"PyPlot\")` to install the PyPlot package.",
      "",
      "Stacktrace:",
      " [1] macro expansion",
      "   @ ./loading.jl:1772 [inlined]",
      " [2] macro expansion",
      "   @ ./lock.jl:267 [inlined]",
      " [3] __require(into::Module, mod::Symbol)",
      "   @ Base ./loading.jl:1753",
      " [4] #invoke_in_world#3",
      "   @ ./essentials.jl:926 [inlined]",
      " [5] invoke_in_world",
      "   @ ./essentials.jl:923 [inlined]",
      " [6] require(into::Module, mod::Symbol)",
      "   @ Base ./loading.jl:1746"
     ]
    }
   ],
   "source": [
    "using PyPlot"
   ]
  },
  {
   "cell_type": "code",
   "execution_count": null,
   "id": "46ccc6bc-0c44-4783-89bc-7589006637e9",
   "metadata": {},
   "outputs": [],
   "source": []
  }
 ],
 "metadata": {
  "kernelspec": {
   "display_name": "Julia 1.10.2",
   "language": "julia",
   "name": "julia-1.10"
  },
  "language_info": {
   "file_extension": ".jl",
   "mimetype": "application/julia",
   "name": "julia",
   "version": "1.10.2"
  }
 },
 "nbformat": 4,
 "nbformat_minor": 5
}
